{
  "cells": [
    {
      "cell_type": "code",
      "execution_count": 1,
      "metadata": {
        "colab": {
          "base_uri": "https://localhost:8080/"
        },
        "id": "RIBf56d6l7Vo",
        "outputId": "5ad22065-775d-4825-82fe-403988335b9c"
      },
      "outputs": [
        {
          "name": "stdout",
          "output_type": "stream",
          "text": [
            "Defaulting to user installation because normal site-packages is not writeable\n",
            "Requirement already satisfied: nltk in c:\\users\\prane\\appdata\\roaming\\python\\python313\\site-packages (3.9.1)\n",
            "Requirement already satisfied: pandas in c:\\users\\prane\\appdata\\roaming\\python\\python313\\site-packages (2.3.2)\n",
            "Requirement already satisfied: numpy in c:\\users\\prane\\appdata\\roaming\\python\\python313\\site-packages (2.3.2)\n",
            "Requirement already satisfied: scikit-learn in c:\\users\\prane\\appdata\\roaming\\python\\python313\\site-packages (1.7.1)\n",
            "Requirement already satisfied: click in c:\\users\\prane\\appdata\\roaming\\python\\python313\\site-packages (from nltk) (8.2.1)\n",
            "Requirement already satisfied: joblib in c:\\users\\prane\\appdata\\roaming\\python\\python313\\site-packages (from nltk) (1.5.2)\n",
            "Requirement already satisfied: regex>=2021.8.3 in c:\\users\\prane\\appdata\\roaming\\python\\python313\\site-packages (from nltk) (2025.9.1)\n",
            "Requirement already satisfied: tqdm in c:\\users\\prane\\appdata\\roaming\\python\\python313\\site-packages (from nltk) (4.67.1)\n",
            "Requirement already satisfied: python-dateutil>=2.8.2 in c:\\users\\prane\\appdata\\roaming\\python\\python313\\site-packages (from pandas) (2.9.0.post0)\n",
            "Requirement already satisfied: pytz>=2020.1 in c:\\users\\prane\\appdata\\roaming\\python\\python313\\site-packages (from pandas) (2025.2)\n",
            "Requirement already satisfied: tzdata>=2022.7 in c:\\users\\prane\\appdata\\roaming\\python\\python313\\site-packages (from pandas) (2025.2)\n",
            "Requirement already satisfied: scipy>=1.8.0 in c:\\users\\prane\\appdata\\roaming\\python\\python313\\site-packages (from scikit-learn) (1.16.1)\n",
            "Requirement already satisfied: threadpoolctl>=3.1.0 in c:\\users\\prane\\appdata\\roaming\\python\\python313\\site-packages (from scikit-learn) (3.6.0)\n",
            "Requirement already satisfied: six>=1.5 in c:\\users\\prane\\appdata\\roaming\\python\\python313\\site-packages (from python-dateutil>=2.8.2->pandas) (1.17.0)\n",
            "Requirement already satisfied: colorama in c:\\users\\prane\\appdata\\roaming\\python\\python313\\site-packages (from click->nltk) (0.4.6)\n"
          ]
        },
        {
          "name": "stderr",
          "output_type": "stream",
          "text": [
            "[nltk_data] Downloading package punkt to\n",
            "[nltk_data]     C:\\Users\\prane\\AppData\\Roaming\\nltk_data...\n",
            "[nltk_data]   Package punkt is already up-to-date!\n",
            "[nltk_data] Downloading package stopwords to\n",
            "[nltk_data]     C:\\Users\\prane\\AppData\\Roaming\\nltk_data...\n",
            "[nltk_data]   Package stopwords is already up-to-date!\n",
            "[nltk_data] Downloading package wordnet to\n",
            "[nltk_data]     C:\\Users\\prane\\AppData\\Roaming\\nltk_data...\n",
            "[nltk_data]   Package wordnet is already up-to-date!\n",
            "[nltk_data] Downloading package punkt_tab to\n",
            "[nltk_data]     C:\\Users\\prane\\AppData\\Roaming\\nltk_data...\n",
            "[nltk_data]   Package punkt_tab is already up-to-date!\n"
          ]
        },
        {
          "data": {
            "text/plain": [
              "True"
            ]
          },
          "execution_count": 1,
          "metadata": {},
          "output_type": "execute_result"
        }
      ],
      "source": [
        "from nltk.tokenize import word_tokenize\n",
        "#Install necessary libraries\n",
        "!pip install nltk pandas numpy scikit-learn\n",
        "\n",
        "#Importing  libraries\n",
        "import nltk\n",
        "import pandas as pd\n",
        "import numpy as np\n",
        "from sklearn.model_selection import train_test_split\n",
        "from nltk.corpus import stopwords\n",
        "\n",
        "#Downloading  NLTK datasets for preprocessing of data(reviews)\n",
        "nltk.download('punkt')\n",
        "nltk.download('stopwords')\n",
        "nltk.download('wordnet')\n",
        "nltk.download('punkt_tab')"
      ]
    },
    {
      "cell_type": "code",
      "execution_count": 2,
      "metadata": {
        "colab": {
          "base_uri": "https://localhost:8080/"
        },
        "id": "7aXi4hFhm1CO",
        "outputId": "da49b01a-eed6-40f1-a444-b1e1582cab1e"
      },
      "outputs": [
        {
          "name": "stdout",
          "output_type": "stream",
          "text": [
            "Label\n",
            "positive    2791\n",
            "negative    2226\n",
            "Name: count, dtype: int64\n",
            "Best parameters: {'alpha': 0.7, 'fit_prior': False}\n",
            "Accuracy: 0.8623188405797102\n",
            "Confusion Matrix:\n",
            "[[653  82]\n",
            " [146 775]]\n",
            "Precision: 0.8656829293427701\n",
            "Recall: 0.8623188405797102\n",
            "F1 Score: 0.8627129866518513\n",
            "\n",
            "Classification Report:\n",
            "              precision    recall  f1-score   support\n",
            "\n",
            "    negative       0.82      0.89      0.85       735\n",
            "    positive       0.90      0.84      0.87       921\n",
            "\n",
            "    accuracy                           0.86      1656\n",
            "   macro avg       0.86      0.86      0.86      1656\n",
            "weighted avg       0.87      0.86      0.86      1656\n",
            "\n"
          ]
        }
      ],
      "source": [
        "from sklearn.feature_extraction.text import TfidfVectorizer\n",
        "from sklearn.model_selection import train_test_split, GridSearchCV, StratifiedKFold\n",
        "from sklearn.naive_bayes import MultinomialNB\n",
        "from sklearn.metrics import confusion_matrix, accuracy_score, precision_recall_fscore_support, classification_report\n",
        "from nltk.tokenize import word_tokenize\n",
        "from nltk.stem import WordNetLemmatizer\n",
        "import string\n",
        "\n",
        "# Load dataset\n",
        "df = pd.read_csv('DatasetReviewsAndSentiments.csv')\n",
        "\n",
        "# Initialize Lemmatizer and stopwords\n",
        "lemmatizer = WordNetLemmatizer()\n",
        "stop_words = set(stopwords.words('english'))\n",
        "stop_words.remove('not')  # Ensure 'not' is not removed\n",
        "\n",
        "# Preprocess text function\n",
        "def PreProcessText(review):\n",
        "    # Tokenize and convert to lowercase\n",
        "    tokens = word_tokenize(review.lower())\n",
        "    # Remove stopwords and non-alphanumeric tokens, and lemmatize(converting it in to its base form)\n",
        "    tokens = [lemmatizer.lemmatize(word) for word in tokens if word.isalnum() and word not in stop_words]\n",
        "    return ' '.join(tokens)\n",
        "\n",
        "df['Review'] = df['Review'].apply(PreProcessText)\n",
        "\n",
        "# Vectorize the text data with bi-grams and tri-grams\n",
        "vectorizer = TfidfVectorizer(ngram_range=(1, 3))  # Consider unigrams, bi-grams, and tri-grams\n",
        "X = vectorizer.fit_transform(df['Review'])\n",
        "y = df['Label']\n",
        "print(y.value_counts())\n",
        "# Split data into training and testing sets with stratified sampling\n",
        "X_train, X_test, y_train, y_test = train_test_split(X, y, test_size=0.33, random_state=42, stratify=y)\n",
        "\n",
        "# Define the model\n",
        "model = MultinomialNB()\n",
        "\n",
        "\n",
        "\n",
        "\n",
        "# Define the parameter grid\n",
        "param_grid = {\n",
        "    'alpha': [0.1, 0.5, 0.7],\n",
        "    'fit_prior': [True, False]\n",
        "}\n",
        "\n",
        "#Set up GridSearchCV with stratified k-fold cross-validation\n",
        "stratified_kfold = StratifiedKFold(n_splits=5)\n",
        "grid_search = GridSearchCV(model, param_grid, cv=stratified_kfold, scoring='f1_weighted')\n",
        "grid_search.fit(X_train, y_train)\n",
        "\n",
        "#Best parameters found by using GridSearchCV\n",
        "print(f\"Best parameters: {grid_search.best_params_}\")\n",
        "\n",
        "#Now project will make predictions\n",
        "y_pred = grid_search.predict(X_test)\n",
        "\n",
        "# Evaluate the model using different metrics\n",
        "cm = confusion_matrix(y_test, y_pred)\n",
        "accuracy = accuracy_score(y_test, y_pred)\n",
        "print(f\"Accuracy: {accuracy}\")\n",
        "\n",
        "precision, recall, f1_score, _ = precision_recall_fscore_support(y_test, y_pred, average='weighted')\n",
        "\n",
        "print(f\"Confusion Matrix:\\n{cm}\")\n",
        "\n",
        "print(f\"Precision: {precision}\")\n",
        "print(f\"Recall: {recall}\")\n",
        "print(f\"F1 Score: {f1_score}\")\n",
        "\n",
        "# Detailed classification report\n",
        "print(\"\\nClassification Report:\")\n",
        "print(classification_report(y_test, y_pred))\n",
        "\n",
        "\n",
        "\n"
      ]
    },
    {
      "cell_type": "code",
      "execution_count": 3,
      "metadata": {
        "colab": {
          "base_uri": "https://localhost:8080/"
        },
        "id": "qHwUfB_EncnL",
        "outputId": "334f0dea-6fb4-4bd8-fe09-2b067a06279c"
      },
      "outputs": [
        {
          "name": "stdout",
          "output_type": "stream",
          "text": [
            "Review: This app is amazing! I've never had any issues and it works perfectly.\n",
            "Predicted sentiment for the review: positive\n",
            "App is Not Fraud\n",
            "Review: Scam! They charged me without my consent and the app doesn't even work.\n",
            "Predicted sentiment for the review: negative\n",
            "App is Fraud\n",
            "Review: Great app for tracking my workouts. Highly recommend it to anyone!\n",
            "Predicted sentiment for the review: positive\n",
            "App is Not Fraud\n",
            "Review: Totally fake! This app is just a clone of another one and it crashes all the time.\n",
            "Predicted sentiment for the review: negative\n",
            "App is Fraud\n",
            "Review: I've been using this app for months and it's been very reliable and useful.\n",
            "Predicted sentiment for the review: positive\n",
            "App is Not Fraud\n",
            "Review: Warning! This app stole my personal information. Do not download.\n",
            "Predicted sentiment for the review: negative\n",
            "App is Fraud\n",
            "Review: Fantastic user interface and very helpful customer support.\n",
            "Predicted sentiment for the review: positive\n",
            "App is Not Fraud\n",
            "Review: Terrible. It's filled with ads and doesn't do what it promises.\n",
            "Predicted sentiment for the review: negative\n",
            "App is Fraud\n",
            "Review: Love the new features in the latest update. Well done!\n",
            "Predicted sentiment for the review: positive\n",
            "App is Not Fraud\n",
            "Review: Fake reviews everywhere. This app is a complete fraud.\n",
            "Predicted sentiment for the review: negative\n",
            "App is Fraud\n"
          ]
        },
        {
          "name": "stdout",
          "output_type": "stream",
          "text": [
            "Predicted sentiment for the review: positive\n",
            "App is Not Fraud\n"
          ]
        }
      ],
      "source": [
        "def predict_sentiment(review):\n",
        "    review_processed = PreProcessText(review)\n",
        "    review_vectorized = vectorizer.transform([review_processed])\n",
        "    prediction = grid_search.predict(review_vectorized)\n",
        "    return prediction[0]\n",
        "\n",
        "# Example reviews\n",
        "reviews = [\n",
        "    \"This app is amazing! I've never had any issues and it works perfectly.\",\n",
        "    \"Scam! They charged me without my consent and the app doesn't even work.\",\n",
        "    \"Great app for tracking my workouts. Highly recommend it to anyone!\",\n",
        "    \"Totally fake! This app is just a clone of another one and it crashes all the time.\",\n",
        "    \"I've been using this app for months and it's been very reliable and useful.\",\n",
        "    \"Warning! This app stole my personal information. Do not download.\",\n",
        "    \"Fantastic user interface and very helpful customer support.\",\n",
        "    \"Terrible. It's filled with ads and doesn't do what it promises.\",\n",
        "    \"Love the new features in the latest update. Well done!\",\n",
        "    \"Fake reviews everywhere. This app is a complete fraud.\"\n",
        "]\n",
        "\n",
        "# Input by user to detect the fraud app\n",
        "for review in reviews:\n",
        "    predicted_sentiment = predict_sentiment(review)\n",
        "    print(f\"Review: {review}\")\n",
        "    print(f\"Predicted sentiment for the review: {predicted_sentiment}\")\n",
        "    if predicted_sentiment == \"negative\":\n",
        "      print(\"App is Fraud\")\n",
        "    else:\n",
        "      print(\"App is Not Fraud\")\n",
        "new_review = input(\"Enter a review to detect its sentiment: \")\n",
        "predicted_sentiment = predict_sentiment(new_review)\n",
        "print(f\"Predicted sentiment for the review: {predicted_sentiment}\")\n",
        "# Check sentiment and print appropriate message\n",
        "if predicted_sentiment == \"negative\":\n",
        "    print(\"App is Fraud\")\n",
        "else:\n",
        "    print(\"App is Not Fraud\")"
      ]
    },
    {
      "cell_type": "code",
      "execution_count": 4,
      "metadata": {
        "colab": {
          "base_uri": "https://localhost:8080/"
        },
        "id": "EJwRjxbunuNA",
        "outputId": "ace3af05-4ad0-416f-d063-c7cd43105afa"
      },
      "outputs": [
        {
          "name": "stdout",
          "output_type": "stream",
          "text": [
            "TF-IDF scores for review: 'This app is amazing! I've never had any issues and it works perfectly.'\n",
            "amazing never: 0.42260475664382485\n",
            "never issue: 0.4031939637087935\n",
            "work perfectly: 0.4031939637087935\n",
            "app amazing: 0.3562388172507825\n",
            "perfectly: 0.3294483833378078\n",
            "never: 0.2842342616841985\n",
            "amazing: 0.2559476776993183\n",
            "issue: 0.2286340374220216\n",
            "work: 0.21990577470409636\n",
            "app: 0.11790564307329514\n"
          ]
        }
      ],
      "source": [
        "# Display TF-IDF scores for the new review\n",
        "def display_tfidf_scores(review):\n",
        "    review_processed = PreProcessText(review)\n",
        "    review_vectorized = vectorizer.transform([review_processed])\n",
        "    feature_names = vectorizer.get_feature_names_out()\n",
        "    tfidf_scores = review_vectorized.toarray().flatten()\n",
        "    tfidf_dict = {feature_names[i]: tfidf_scores[i] for i in range(len(feature_names)) if tfidf_scores[i] > 0}\n",
        "    tfidf_dict_sorted = dict(sorted(tfidf_dict.items(), key=lambda item: item[1], reverse=True))\n",
        "\n",
        "    print(f\"TF-IDF scores for review: '{review}'\")\n",
        "    for word, score in tfidf_dict_sorted.items():\n",
        "       print(f\"{word}: {score}\")\n",
        "\n",
        "display_tfidf_scores(new_review)\n"
      ]
    },
    {
      "cell_type": "code",
      "execution_count": 5,
      "metadata": {
        "id": "8ldH6-EKn5Ev"
      },
      "outputs": [
        {
          "name": "stdout",
          "output_type": "stream",
          "text": [
            "Vectorizer saved to tfidf_vectorizer.joblib\n",
            "Model saved to sentiment_model.joblib\n"
          ]
        }
      ],
      "source": [
        "import joblib\n",
        "\n",
        "# Define the file names for saving\n",
        "vectorizer_filename = 'tfidf_vectorizer.joblib'\n",
        "model_filename = 'sentiment_model.joblib'\n",
        "\n",
        "# Save the TF-IDF vectorizer\n",
        "joblib.dump(vectorizer, vectorizer_filename)\n",
        "print(f\"Vectorizer saved to {vectorizer_filename}\")\n",
        "\n",
        "# Save the trained GridSearchCV model\n",
        "joblib.dump(grid_search, model_filename)\n",
        "print(f\"Model saved to {model_filename}\")"
      ]
    },
    {
      "cell_type": "code",
      "execution_count": null,
      "metadata": {},
      "outputs": [],
      "source": []
    }
  ],
  "metadata": {
    "colab": {
      "provenance": []
    },
    "kernelspec": {
      "display_name": "Python 3",
      "name": "python3"
    },
    "language_info": {
      "codemirror_mode": {
        "name": "ipython",
        "version": 3
      },
      "file_extension": ".py",
      "mimetype": "text/x-python",
      "name": "python",
      "nbconvert_exporter": "python",
      "pygments_lexer": "ipython3",
      "version": "3.12.3"
    }
  },
  "nbformat": 4,
  "nbformat_minor": 0
}
